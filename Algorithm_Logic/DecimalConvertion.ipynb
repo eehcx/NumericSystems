{
 "cells": [
  {
   "attachments": {},
   "cell_type": "markdown",
   "metadata": {},
   "source": [
    "# Sistemas Númericos\n",
    "\n",
    "#### Descrición: \n",
    "**Algoritmo de conversiones** para los diversos sistemas númericos aprendidos en la clase de Sistemas Digitales.\n",
    "\n",
    "```\n",
    "print(¡Bienvenido a mi Proyecto!)\n",
    "```\n"
   ]
  },
  {
   "cell_type": "code",
   "execution_count": 3,
   "metadata": {},
   "outputs": [],
   "source": [
    "import numpy as np"
   ]
  },
  {
   "attachments": {},
   "cell_type": "markdown",
   "metadata": {},
   "source": [
    "### Sistema Decimal\n",
    "\n",
    "#### Descripción:\n",
    "En este sistema contamos con dos funciones, la fución **decimal_base** y la función **digits_string**.\n",
    "* **decimal_base**: Hace la conversión del número decimal a una lista de dígitos en la base seleccionada por el usuario y despues retornamos esa lista de dígitos en un array."
   ]
  },
  {
   "cell_type": "code",
   "execution_count": 17,
   "metadata": {},
   "outputs": [
    {
     "name": "stdout",
     "output_type": "stream",
     "text": [
      "[ 2 10]\n"
     ]
    }
   ],
   "source": [
    "def decimal_base(number, base):\n",
    "    digits = []\n",
    "    while number > 0:\n",
    "        digits.append(number % base) # devuelve el residuo de la división\n",
    "        number = number // base # devuelve la parte entera de la división\n",
    "    digits.reverse()\n",
    "    return np.array(digits)\n",
    "\n",
    "number = 42\n",
    "base = 16\n",
    "\n",
    "digits = decimal_base(number, base)\n",
    "\n",
    "print(digits)\n"
   ]
  },
  {
   "attachments": {},
   "cell_type": "markdown",
   "metadata": {},
   "source": [
    "* **digits_string**: Convertimos los dígitos  en una cadena de texto que representa el número en la base numérica deseada, en el caso de las conversiones a Hexadecimal es necesario ya que estas agregan los valores (A-F) que corresponden al numero"
   ]
  },
  {
   "cell_type": "code",
   "execution_count": 18,
   "metadata": {},
   "outputs": [
    {
     "name": "stdout",
     "output_type": "stream",
     "text": [
      "2A\n"
     ]
    }
   ],
   "source": [
    "def digits_string(digits, base):\n",
    "    symbols = \"0123456789ABCDEF\"\n",
    "    result = \"\"\n",
    "    for digit in digits:\n",
    "        result += symbols[digit]\n",
    "    return result\n",
    "\n",
    "hexadecimal_string = digits_string(digits, base)\n",
    "\n",
    "print(hexadecimal_string)"
   ]
  }
 ],
 "metadata": {
  "kernelspec": {
   "display_name": "base",
   "language": "python",
   "name": "python3"
  },
  "language_info": {
   "codemirror_mode": {
    "name": "ipython",
    "version": 3
   },
   "file_extension": ".py",
   "mimetype": "text/x-python",
   "name": "python",
   "nbconvert_exporter": "python",
   "pygments_lexer": "ipython3",
   "version": "3.9.13"
  },
  "orig_nbformat": 4
 },
 "nbformat": 4,
 "nbformat_minor": 2
}
