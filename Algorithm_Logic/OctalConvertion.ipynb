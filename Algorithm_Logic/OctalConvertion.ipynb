{
 "cells": [
  {
   "cell_type": "code",
   "execution_count": 1,
   "metadata": {},
   "outputs": [],
   "source": [
    "import numpy as np"
   ]
  },
  {
   "cell_type": "code",
   "execution_count": 9,
   "metadata": {},
   "outputs": [
    {
     "name": "stdout",
     "output_type": "stream",
     "text": [
      "001010\n"
     ]
    }
   ],
   "source": [
    "def octal_binary(octal_number):\n",
    "    binary_number = \"\"\n",
    "    octal_digits = str(octal_number)\n",
    "    \n",
    "    for digit in octal_digits:\n",
    "        decimal_digit = int(digit)\n",
    "        binary_digit = \"\"\n",
    "        \n",
    "        while decimal_digit > 0:\n",
    "            binary_digit = str(decimal_digit % 2) + binary_digit\n",
    "            decimal_digit = decimal_digit // 2\n",
    "        \n",
    "        # Asegurar que cada dígito binario tenga 3 bits\n",
    "        if len(binary_digit) < 3:\n",
    "            binary_digit = \"0\" * (3 - len(binary_digit)) + binary_digit\n",
    "        \n",
    "        binary_number += binary_digit\n",
    "    \n",
    "    return binary_number\n",
    "\n",
    "\n",
    "octal_number = input(\"Ingrese un número octal: \")\n",
    "\n",
    "binary_number = octal_binary(octal_number)\n",
    "print(binary_number)"
   ]
  }
 ],
 "metadata": {
  "kernelspec": {
   "display_name": "base",
   "language": "python",
   "name": "python3"
  },
  "language_info": {
   "codemirror_mode": {
    "name": "ipython",
    "version": 3
   },
   "file_extension": ".py",
   "mimetype": "text/x-python",
   "name": "python",
   "nbconvert_exporter": "python",
   "pygments_lexer": "ipython3",
   "version": "3.9.13"
  },
  "orig_nbformat": 4
 },
 "nbformat": 4,
 "nbformat_minor": 2
}
